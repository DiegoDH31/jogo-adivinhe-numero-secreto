{
 "cells": [
  {
   "cell_type": "code",
   "execution_count": null,
   "id": "32cc98f8",
   "metadata": {
    "scrolled": true
   },
   "outputs": [
    {
     "name": "stdout",
     "output_type": "stream",
     "text": [
      "Tente advinhar o número secreto entre 1 e 100: \n"
     ]
    }
   ],
   "source": [
    "import random\n",
    "\n",
    "print(\"Tente advinhar o número secreto entre 1 e 100: \")\n",
    "numero_secreto = random.randint(1, 100)\n",
    "\n",
    "palpite = int(input())\n",
    "\n",
    "while numero_secreto != palpite:\n",
    "    \n",
    "    if palpite < numero_secreto :\n",
    "        print(\"O número secreto é maior que o número informado, tente outra vez!!\")\n",
    "        \n",
    "    elif palpite > numero_secreto :\n",
    "        print(\"O número secreto é menor que o número informado, tente outra vez!!\")\n",
    "        \n",
    "    palpite = int(input())\n",
    "    \n",
    "print(\"Parabéns! Você acertou!!\")\n",
    "\n"
   ]
  }
 ],
 "metadata": {
  "kernelspec": {
   "display_name": "Python 3 (ipykernel)",
   "language": "python",
   "name": "python3"
  },
  "language_info": {
   "codemirror_mode": {
    "name": "ipython",
    "version": 3
   },
   "file_extension": ".py",
   "mimetype": "text/x-python",
   "name": "python",
   "nbconvert_exporter": "python",
   "pygments_lexer": "ipython3",
   "version": "3.11.4"
  }
 },
 "nbformat": 4,
 "nbformat_minor": 5
}
